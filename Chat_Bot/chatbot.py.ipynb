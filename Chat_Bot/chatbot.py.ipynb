{
 "cells": [
  {
   "cell_type": "code",
   "execution_count": null,
   "id": "06617695",
   "metadata": {},
   "outputs": [
    {
     "name": "stdout",
     "output_type": "stream",
     "text": [
      ">hi\n",
      "hiiiiiiiii,chatBot here\n",
      ">can you tell me a joke\n",
      "What is the most shocking city in the world?  \n",
      " Electricity!! \n",
      ">can you sing a song\n",
      "I can't sing, but I can provide lyrics or generate text in a lyrical format if you'd like!\n",
      ">what languages do you speak\n",
      "I can understand and generate text in multiple languages, including English, Spanish, French, German, Chinese, and many more.\n",
      ">do you have feelings\n",
      "No, I'm just a computer program, so I don't have feelings.\n"
     ]
    }
   ],
   "source": [
    "from nltk.chat.util import Chat,reflections\n",
    "# nltk => Natural language tool kit . It is an library\n",
    "# r => used fir reading the string\n",
    "sets = [\n",
    "\n",
    "        [r\"Tell me about yourself\", [\"I am an AI language model developed by CodeAlpha, I'm just a basic ChatBot . I use the trained data to answer the user's input\"]],\n",
    "        [r\"What is your name?\", [\"My name is CodeAlpha ChatBot.\"]],\n",
    "        [r\"How does ChatBot work?\", [\"ChatBot works by processing and generating text based on the input it receives,with the trained data\"]],\n",
    "        [r\"What can you do?\", [\"I can assist with a wide range of tasks, including answering questions, providing information, generating text, and engaging in conversation on various topics.\"]],\n",
    "        [r\"Can you tell me a joke?\", [\"What is the most shocking city in the world?  \\n Electricity!! \"]],\n",
    "        [r\"Who created you?\", [\"I was created by CodeAlpha\"]],\n",
    "        [r\"How are you?\", [\"I'm just a computer program, so I don't have feelings, but I'm here to assist you!\"]],\n",
    "        [r\"Can you explain (.*) to me?\", [\"Sure, I can provide information and explanations on many topics. Please specify the topic you'd like to know about.\"]],\n",
    "        [r\"What is the weather like?\", [\"I'm sorry, I don't have real-time access to weather information. You can check a weather website or app for the current forecast in your area.\"]],\n",
    "        [r\"Can you help me with my homework?\", [\"I can certainly try! Please provide the details of the homework problem or question you need assistance with.\"]],\n",
    "        [r\"Do you have feelings?\", [\"No, I'm just a computer program, so I don't have feelings.\"]],\n",
    "        [r\"Can you write a story/poem for me?\", [\"Sure, I can generate a story or poem based on a theme. Please provide more details or a specific request.\"]],\n",
    "        [r\"Are you human?\", [\"No, I am an artificial intelligence program created by CodeAlpha.\"]],\n",
    "        [r\"What languages do you speak?\", [\"I can understand and generate text in multiple languages, including English, Spanish, French, German, Chinese, and many more.\"]],\n",
    "        [r\"Can you help me with coding?\", [\"Yes, I can assist with coding and programming questions. Please provide the specifics of what you need help with.\"]],\n",
    "        [r\"Can you sing a song?\", [\"I can't sing, but I can provide lyrics or generate text in a lyrical format if you'd like!\"]],        \n",
    "        [r\"hi\",[\"hiiiiiiiii,chatBot here\"]],\n",
    "        [r\"hey\",[\"hii there,chatBot is talking\"]],\n",
    "        [r\"hello\",[\"hello I'm chatBot\"]],\n",
    "]\n",
    "convo = Chat(sets,reflections)\n",
    "convo.converse()\n",
    "\n",
    "def quit():\n",
    "    print(\"hey, I'm ChatBot ask me something\")\n",
    "if __name__==\"__main__\":\n",
    "    quit()\n"
   ]
  },
  {
   "cell_type": "code",
   "execution_count": null,
   "id": "5aacad9f",
   "metadata": {},
   "outputs": [],
   "source": []
  }
 ],
 "metadata": {
  "kernelspec": {
   "display_name": "Python 3 (ipykernel)",
   "language": "python",
   "name": "python3"
  },
  "language_info": {
   "codemirror_mode": {
    "name": "ipython",
    "version": 3
   },
   "file_extension": ".py",
   "mimetype": "text/x-python",
   "name": "python",
   "nbconvert_exporter": "python",
   "pygments_lexer": "ipython3",
   "version": "3.11.5"
  }
 },
 "nbformat": 4,
 "nbformat_minor": 5
}
